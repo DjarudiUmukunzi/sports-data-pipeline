{
 "cells": [
  {
   "cell_type": "code",
   "execution_count": null,
   "id": "caec4f5d",
   "metadata": {},
   "outputs": [],
   "source": [
    "# --- Configuration (INSECURE - FOR DEV ONLY) ---\n",
    "\n",
    "# 1. Update with your storage account name from the Azure portal\n",
    "STORAGE_ACCOUNT_NAME = \"stsportsanalyticsnfcji2\" \n",
    "\n",
    "# 2. Paste the access key from your storage account's \"Access keys\" page\n",
    "STORAGE_KEY = \"<YOUR_STORAGE_KEY\"\n",
    "\n",
    "# --- Define Containers to Mount ---\n",
    "containers_to_mount = [\"bronze\", \"silver\", \"gold\"]\n",
    "\n",
    "def mount_container(container_name):\n",
    "  \"\"\"A function to mount a container if it is not already mounted.\"\"\"\n",
    "  mount_point = f\"/mnt/{container_name}\"\n",
    "  \n",
    "  # Check if already mounted\n",
    "  if any(mount.mountPoint == mount_point for mount in dbutils.fs.mounts()):\n",
    "    print(f\"Mount point {mount_point} already exists. Skipping.\")\n",
    "    return\n",
    "\n",
    "  # Mount the container\n",
    "  try:\n",
    "    dbutils.fs.mount(\n",
    "      source = f\"wasbs://{container_name}@{STORAGE_ACCOUNT_NAME}.blob.core.windows.net/\",\n",
    "      mount_point = mount_point,\n",
    "      extra_configs = {f\"fs.azure.account.key.{STORAGE_ACCOUNT_NAME}.blob.core.windows.net\": STORAGE_KEY}\n",
    "    )\n",
    "    print(f\"Successfully mounted {mount_point}\")\n",
    "  except Exception as e:\n",
    "    print(f\"Error mounting {mount_point}: {e}\")\n",
    "\n",
    "# --- Execute Mounts ---\n",
    "for container in containers_to_mount:\n",
    "  mount_container(container)\n",
    "\n"
   ]
  }
 ],
 "metadata": {
  "language_info": {
   "name": "python"
  }
 },
 "nbformat": 4,
 "nbformat_minor": 5
}
